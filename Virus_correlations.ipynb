{
 "cells": [
  {
   "cell_type": "code",
   "execution_count": 1,
   "metadata": {},
   "outputs": [],
   "source": [
    "import numpy as np\n",
    "import pandas as pd"
   ]
  },
  {
   "cell_type": "code",
   "execution_count": 2,
   "metadata": {},
   "outputs": [],
   "source": [
    "import seaborn as sns"
   ]
  },
  {
   "cell_type": "code",
   "execution_count": 3,
   "metadata": {},
   "outputs": [],
   "source": [
    "import matplotlib.pyplot as plt\n",
    "%matplotlib inline\n",
    "import seaborn as sns"
   ]
  },
  {
   "cell_type": "code",
   "execution_count": 4,
   "metadata": {},
   "outputs": [],
   "source": [
    "sns.set_style('whitegrid')"
   ]
  },
  {
   "cell_type": "code",
   "execution_count": 5,
   "metadata": {},
   "outputs": [],
   "source": [
    "data = pd.read_csv('mut_spectr/unity_all.tsv', sep='\\t')"
   ]
  },
  {
   "cell_type": "code",
   "execution_count": 6,
   "metadata": {},
   "outputs": [],
   "source": [
    "data = data.drop('Unnamed: 0', axis=1)"
   ]
  },
  {
   "cell_type": "code",
   "execution_count": 7,
   "metadata": {},
   "outputs": [],
   "source": [
    "data.set_index('Virus_Name', inplace=True)"
   ]
  },
  {
   "cell_type": "code",
   "execution_count": 8,
   "metadata": {},
   "outputs": [],
   "source": [
    "normed_data = data / data.to_numpy().sum(axis=1).reshape(9,1)"
   ]
  },
  {
   "cell_type": "code",
   "execution_count": 9,
   "metadata": {},
   "outputs": [
    {
     "data": {
      "text/html": [
       "<div>\n",
       "<style scoped>\n",
       "    .dataframe tbody tr th:only-of-type {\n",
       "        vertical-align: middle;\n",
       "    }\n",
       "\n",
       "    .dataframe tbody tr th {\n",
       "        vertical-align: top;\n",
       "    }\n",
       "\n",
       "    .dataframe thead th {\n",
       "        text-align: right;\n",
       "    }\n",
       "</style>\n",
       "<table border=\"1\" class=\"dataframe\">\n",
       "  <thead>\n",
       "    <tr style=\"text-align: right;\">\n",
       "      <th></th>\n",
       "      <th>('C', 'A')</th>\n",
       "      <th>('T', 'A')</th>\n",
       "      <th>('C', 'T')</th>\n",
       "      <th>('G', 'C')</th>\n",
       "      <th>('A', 'C')</th>\n",
       "      <th>('G', 'T')</th>\n",
       "      <th>('T', 'G')</th>\n",
       "      <th>('T', 'C')</th>\n",
       "      <th>('G', 'A')</th>\n",
       "      <th>('A', 'G')</th>\n",
       "      <th>('A', 'T')</th>\n",
       "      <th>('C', 'G')</th>\n",
       "    </tr>\n",
       "    <tr>\n",
       "      <th>Virus_Name</th>\n",
       "      <th></th>\n",
       "      <th></th>\n",
       "      <th></th>\n",
       "      <th></th>\n",
       "      <th></th>\n",
       "      <th></th>\n",
       "      <th></th>\n",
       "      <th></th>\n",
       "      <th></th>\n",
       "      <th></th>\n",
       "      <th></th>\n",
       "      <th></th>\n",
       "    </tr>\n",
       "  </thead>\n",
       "  <tbody>\n",
       "    <tr>\n",
       "      <th>coronavirus</th>\n",
       "      <td>0.021383</td>\n",
       "      <td>0.012111</td>\n",
       "      <td>0.450563</td>\n",
       "      <td>0.014571</td>\n",
       "      <td>0.016463</td>\n",
       "      <td>0.206642</td>\n",
       "      <td>0.012206</td>\n",
       "      <td>0.089034</td>\n",
       "      <td>0.069732</td>\n",
       "      <td>0.080424</td>\n",
       "      <td>0.022235</td>\n",
       "      <td>0.004636</td>\n",
       "    </tr>\n",
       "    <tr>\n",
       "      <th>west_nile_virus</th>\n",
       "      <td>0.014762</td>\n",
       "      <td>0.014340</td>\n",
       "      <td>0.394118</td>\n",
       "      <td>0.003451</td>\n",
       "      <td>0.009892</td>\n",
       "      <td>0.018289</td>\n",
       "      <td>0.008704</td>\n",
       "      <td>0.238258</td>\n",
       "      <td>0.133545</td>\n",
       "      <td>0.148422</td>\n",
       "      <td>0.012998</td>\n",
       "      <td>0.003221</td>\n",
       "    </tr>\n",
       "    <tr>\n",
       "      <th>mumps</th>\n",
       "      <td>0.060844</td>\n",
       "      <td>0.028459</td>\n",
       "      <td>0.198234</td>\n",
       "      <td>0.001963</td>\n",
       "      <td>0.028459</td>\n",
       "      <td>0.073602</td>\n",
       "      <td>0.025515</td>\n",
       "      <td>0.195289</td>\n",
       "      <td>0.167812</td>\n",
       "      <td>0.188420</td>\n",
       "      <td>0.023553</td>\n",
       "      <td>0.007851</td>\n",
       "    </tr>\n",
       "    <tr>\n",
       "      <th>zika</th>\n",
       "      <td>0.017857</td>\n",
       "      <td>0.023048</td>\n",
       "      <td>0.274917</td>\n",
       "      <td>0.008929</td>\n",
       "      <td>0.016819</td>\n",
       "      <td>0.016819</td>\n",
       "      <td>0.010174</td>\n",
       "      <td>0.283430</td>\n",
       "      <td>0.137043</td>\n",
       "      <td>0.185216</td>\n",
       "      <td>0.020972</td>\n",
       "      <td>0.004776</td>\n",
       "    </tr>\n",
       "    <tr>\n",
       "      <th>west_african_ebola</th>\n",
       "      <td>0.019377</td>\n",
       "      <td>0.024316</td>\n",
       "      <td>0.177432</td>\n",
       "      <td>0.006839</td>\n",
       "      <td>0.040274</td>\n",
       "      <td>0.013678</td>\n",
       "      <td>0.033815</td>\n",
       "      <td>0.246960</td>\n",
       "      <td>0.158055</td>\n",
       "      <td>0.249240</td>\n",
       "      <td>0.025456</td>\n",
       "      <td>0.004559</td>\n",
       "    </tr>\n",
       "    <tr>\n",
       "      <th>dengue</th>\n",
       "      <td>0.020091</td>\n",
       "      <td>0.023129</td>\n",
       "      <td>0.284767</td>\n",
       "      <td>0.011858</td>\n",
       "      <td>0.019699</td>\n",
       "      <td>0.014701</td>\n",
       "      <td>0.010552</td>\n",
       "      <td>0.256346</td>\n",
       "      <td>0.156022</td>\n",
       "      <td>0.169351</td>\n",
       "      <td>0.024860</td>\n",
       "      <td>0.008624</td>\n",
       "    </tr>\n",
       "    <tr>\n",
       "      <th>avian_influenza</th>\n",
       "      <td>0.036916</td>\n",
       "      <td>0.020913</td>\n",
       "      <td>0.203401</td>\n",
       "      <td>0.005910</td>\n",
       "      <td>0.031006</td>\n",
       "      <td>0.027641</td>\n",
       "      <td>0.020185</td>\n",
       "      <td>0.162757</td>\n",
       "      <td>0.246136</td>\n",
       "      <td>0.216221</td>\n",
       "      <td>0.025095</td>\n",
       "      <td>0.003819</td>\n",
       "    </tr>\n",
       "    <tr>\n",
       "      <th>measles</th>\n",
       "      <td>0.036301</td>\n",
       "      <td>0.012100</td>\n",
       "      <td>0.231201</td>\n",
       "      <td>0.007058</td>\n",
       "      <td>0.025353</td>\n",
       "      <td>0.021896</td>\n",
       "      <td>0.012388</td>\n",
       "      <td>0.236099</td>\n",
       "      <td>0.196629</td>\n",
       "      <td>0.198070</td>\n",
       "      <td>0.014549</td>\n",
       "      <td>0.008355</td>\n",
       "    </tr>\n",
       "    <tr>\n",
       "      <th>tuberculosis</th>\n",
       "      <td>0.060058</td>\n",
       "      <td>0.009844</td>\n",
       "      <td>0.244796</td>\n",
       "      <td>0.060723</td>\n",
       "      <td>0.040253</td>\n",
       "      <td>0.060907</td>\n",
       "      <td>0.038776</td>\n",
       "      <td>0.083356</td>\n",
       "      <td>0.245497</td>\n",
       "      <td>0.082130</td>\n",
       "      <td>0.010929</td>\n",
       "      <td>0.062731</td>\n",
       "    </tr>\n",
       "  </tbody>\n",
       "</table>\n",
       "</div>"
      ],
      "text/plain": [
       "                    ('C', 'A')  ('T', 'A')  ('C', 'T')  ('G', 'C')  \\\n",
       "Virus_Name                                                           \n",
       "coronavirus           0.021383    0.012111    0.450563    0.014571   \n",
       "west_nile_virus       0.014762    0.014340    0.394118    0.003451   \n",
       "mumps                 0.060844    0.028459    0.198234    0.001963   \n",
       "zika                  0.017857    0.023048    0.274917    0.008929   \n",
       "west_african_ebola    0.019377    0.024316    0.177432    0.006839   \n",
       "dengue                0.020091    0.023129    0.284767    0.011858   \n",
       "avian_influenza       0.036916    0.020913    0.203401    0.005910   \n",
       "measles               0.036301    0.012100    0.231201    0.007058   \n",
       "tuberculosis          0.060058    0.009844    0.244796    0.060723   \n",
       "\n",
       "                    ('A', 'C')  ('G', 'T')  ('T', 'G')  ('T', 'C')  \\\n",
       "Virus_Name                                                           \n",
       "coronavirus           0.016463    0.206642    0.012206    0.089034   \n",
       "west_nile_virus       0.009892    0.018289    0.008704    0.238258   \n",
       "mumps                 0.028459    0.073602    0.025515    0.195289   \n",
       "zika                  0.016819    0.016819    0.010174    0.283430   \n",
       "west_african_ebola    0.040274    0.013678    0.033815    0.246960   \n",
       "dengue                0.019699    0.014701    0.010552    0.256346   \n",
       "avian_influenza       0.031006    0.027641    0.020185    0.162757   \n",
       "measles               0.025353    0.021896    0.012388    0.236099   \n",
       "tuberculosis          0.040253    0.060907    0.038776    0.083356   \n",
       "\n",
       "                    ('G', 'A')  ('A', 'G')  ('A', 'T')  ('C', 'G')  \n",
       "Virus_Name                                                          \n",
       "coronavirus           0.069732    0.080424    0.022235    0.004636  \n",
       "west_nile_virus       0.133545    0.148422    0.012998    0.003221  \n",
       "mumps                 0.167812    0.188420    0.023553    0.007851  \n",
       "zika                  0.137043    0.185216    0.020972    0.004776  \n",
       "west_african_ebola    0.158055    0.249240    0.025456    0.004559  \n",
       "dengue                0.156022    0.169351    0.024860    0.008624  \n",
       "avian_influenza       0.246136    0.216221    0.025095    0.003819  \n",
       "measles               0.196629    0.198070    0.014549    0.008355  \n",
       "tuberculosis          0.245497    0.082130    0.010929    0.062731  "
      ]
     },
     "execution_count": 9,
     "metadata": {},
     "output_type": "execute_result"
    }
   ],
   "source": [
    "normed_data"
   ]
  },
  {
   "cell_type": "code",
   "execution_count": 10,
   "metadata": {},
   "outputs": [
    {
     "data": {
      "text/plain": [
       "<matplotlib.axes._subplots.AxesSubplot at 0x7fd4a1498d10>"
      ]
     },
     "execution_count": 10,
     "metadata": {},
     "output_type": "execute_result"
    },
    {
     "data": {
      "image/png": "[encoded data removed]",
      "text/plain": [
       "<Figure size 432x288 with 2 Axes>"
      ]
     },
     "metadata": {},
     "output_type": "display_data"
    }
   ],
   "source": [
    "sns.heatmap(normed_data)"
   ]
  },
  {
   "cell_type": "code",
   "execution_count": 11,
   "metadata": {},
   "outputs": [],
   "source": [
    "import scipy.stats as stats"
   ]
  },
  {
   "cell_type": "code",
   "execution_count": 12,
   "metadata": {},
   "outputs": [],
   "source": [
    "virus_correlation = stats.spearmanr(normed_data, axis=1).correlation"
   ]
  },
  {
   "cell_type": "code",
   "execution_count": 13,
   "metadata": {},
   "outputs": [],
   "source": [
    "virus_correlation= pd.DataFrame(virus_correlation)"
   ]
  },
  {
   "cell_type": "code",
   "execution_count": 14,
   "metadata": {},
   "outputs": [
    {
     "data": {
      "text/html": [
       "<div>\n",
       "<style scoped>\n",
       "    .dataframe tbody tr th:only-of-type {\n",
       "        vertical-align: middle;\n",
       "    }\n",
       "\n",
       "    .dataframe tbody tr th {\n",
       "        vertical-align: top;\n",
       "    }\n",
       "\n",
       "    .dataframe thead th {\n",
       "        text-align: right;\n",
       "    }\n",
       "</style>\n",
       "<table border=\"1\" class=\"dataframe\">\n",
       "  <thead>\n",
       "    <tr style=\"text-align: right;\">\n",
       "      <th></th>\n",
       "      <th>0</th>\n",
       "      <th>1</th>\n",
       "      <th>2</th>\n",
       "      <th>3</th>\n",
       "      <th>4</th>\n",
       "      <th>5</th>\n",
       "      <th>6</th>\n",
       "      <th>7</th>\n",
       "      <th>8</th>\n",
       "    </tr>\n",
       "  </thead>\n",
       "  <tbody>\n",
       "    <tr>\n",
       "      <th>0</th>\n",
       "      <td>1.000000</td>\n",
       "      <td>0.867133</td>\n",
       "      <td>0.816113</td>\n",
       "      <td>0.686516</td>\n",
       "      <td>0.573427</td>\n",
       "      <td>0.720280</td>\n",
       "      <td>0.755245</td>\n",
       "      <td>0.804196</td>\n",
       "      <td>0.601399</td>\n",
       "    </tr>\n",
       "    <tr>\n",
       "      <th>1</th>\n",
       "      <td>0.867133</td>\n",
       "      <td>1.000000</td>\n",
       "      <td>0.966727</td>\n",
       "      <td>0.917690</td>\n",
       "      <td>0.734266</td>\n",
       "      <td>0.895105</td>\n",
       "      <td>0.874126</td>\n",
       "      <td>0.902098</td>\n",
       "      <td>0.594406</td>\n",
       "    </tr>\n",
       "    <tr>\n",
       "      <th>2</th>\n",
       "      <td>0.816113</td>\n",
       "      <td>0.966727</td>\n",
       "      <td>1.000000</td>\n",
       "      <td>0.854386</td>\n",
       "      <td>0.760071</td>\n",
       "      <td>0.812611</td>\n",
       "      <td>0.879161</td>\n",
       "      <td>0.931700</td>\n",
       "      <td>0.640982</td>\n",
       "    </tr>\n",
       "    <tr>\n",
       "      <th>3</th>\n",
       "      <td>0.686516</td>\n",
       "      <td>0.917690</td>\n",
       "      <td>0.854386</td>\n",
       "      <td>1.000000</td>\n",
       "      <td>0.823119</td>\n",
       "      <td>0.977234</td>\n",
       "      <td>0.816113</td>\n",
       "      <td>0.844134</td>\n",
       "      <td>0.437829</td>\n",
       "    </tr>\n",
       "    <tr>\n",
       "      <th>4</th>\n",
       "      <td>0.573427</td>\n",
       "      <td>0.734266</td>\n",
       "      <td>0.760071</td>\n",
       "      <td>0.823119</td>\n",
       "      <td>1.000000</td>\n",
       "      <td>0.804196</td>\n",
       "      <td>0.797203</td>\n",
       "      <td>0.832168</td>\n",
       "      <td>0.419580</td>\n",
       "    </tr>\n",
       "    <tr>\n",
       "      <th>5</th>\n",
       "      <td>0.720280</td>\n",
       "      <td>0.895105</td>\n",
       "      <td>0.812611</td>\n",
       "      <td>0.977234</td>\n",
       "      <td>0.804196</td>\n",
       "      <td>1.000000</td>\n",
       "      <td>0.825175</td>\n",
       "      <td>0.832168</td>\n",
       "      <td>0.461538</td>\n",
       "    </tr>\n",
       "    <tr>\n",
       "      <th>6</th>\n",
       "      <td>0.755245</td>\n",
       "      <td>0.874126</td>\n",
       "      <td>0.879161</td>\n",
       "      <td>0.816113</td>\n",
       "      <td>0.797203</td>\n",
       "      <td>0.825175</td>\n",
       "      <td>1.000000</td>\n",
       "      <td>0.916084</td>\n",
       "      <td>0.622378</td>\n",
       "    </tr>\n",
       "    <tr>\n",
       "      <th>7</th>\n",
       "      <td>0.804196</td>\n",
       "      <td>0.902098</td>\n",
       "      <td>0.931700</td>\n",
       "      <td>0.844134</td>\n",
       "      <td>0.832168</td>\n",
       "      <td>0.832168</td>\n",
       "      <td>0.916084</td>\n",
       "      <td>1.000000</td>\n",
       "      <td>0.622378</td>\n",
       "    </tr>\n",
       "    <tr>\n",
       "      <th>8</th>\n",
       "      <td>0.601399</td>\n",
       "      <td>0.594406</td>\n",
       "      <td>0.640982</td>\n",
       "      <td>0.437829</td>\n",
       "      <td>0.419580</td>\n",
       "      <td>0.461538</td>\n",
       "      <td>0.622378</td>\n",
       "      <td>0.622378</td>\n",
       "      <td>1.000000</td>\n",
       "    </tr>\n",
       "  </tbody>\n",
       "</table>\n",
       "</div>"
      ],
      "text/plain": [
       "          0         1         2         3         4         5         6  \\\n",
       "0  1.000000  0.867133  0.816113  0.686516  0.573427  0.720280  0.755245   \n",
       "1  0.867133  1.000000  0.966727  0.917690  0.734266  0.895105  0.874126   \n",
       "2  0.816113  0.966727  1.000000  0.854386  0.760071  0.812611  0.879161   \n",
       "3  0.686516  0.917690  0.854386  1.000000  0.823119  0.977234  0.816113   \n",
       "4  0.573427  0.734266  0.760071  0.823119  1.000000  0.804196  0.797203   \n",
       "5  0.720280  0.895105  0.812611  0.977234  0.804196  1.000000  0.825175   \n",
       "6  0.755245  0.874126  0.879161  0.816113  0.797203  0.825175  1.000000   \n",
       "7  0.804196  0.902098  0.931700  0.844134  0.832168  0.832168  0.916084   \n",
       "8  0.601399  0.594406  0.640982  0.437829  0.419580  0.461538  0.622378   \n",
       "\n",
       "          7         8  \n",
       "0  0.804196  0.601399  \n",
       "1  0.902098  0.594406  \n",
       "2  0.931700  0.640982  \n",
       "3  0.844134  0.437829  \n",
       "4  0.832168  0.419580  \n",
       "5  0.832168  0.461538  \n",
       "6  0.916084  0.622378  \n",
       "7  1.000000  0.622378  \n",
       "8  0.622378  1.000000  "
      ]
     },
     "execution_count": 14,
     "metadata": {},
     "output_type": "execute_result"
    }
   ],
   "source": [
    "virus_correlation"
   ]
  },
  {
   "cell_type": "code",
   "execution_count": 15,
   "metadata": {},
   "outputs": [
    {
     "data": {
      "text/plain": [
       "<matplotlib.axes._subplots.AxesSubplot at 0x7fd4a1884550>"
      ]
     },
     "execution_count": 15,
     "metadata": {},
     "output_type": "execute_result"
    },
    {
     "data": {
      "image/png": "[encoded data removed]",
      "text/plain": [
       "<Figure size 432x288 with 2 Axes>"
      ]
     },
     "metadata": {},
     "output_type": "display_data"
    }
   ],
   "source": [
    "sns.heatmap(normed_data.corr())"
   ]
  },
  {
   "cell_type": "code",
   "execution_count": 17,
   "metadata": {},
   "outputs": [
    {
     "name": "stdout",
     "output_type": "stream",
     "text": [
      "Requirement already up-to-date: scikit-learn in ./venv/lib/python3.7/site-packages (0.23.2)\n",
      "Collecting statsmodels\n",
      "\u001b[?25l  Downloading https://files.pythonhosted.org/packages/92/05/720894fff3ce6a5f5ebecd44e82657ba74b7ad30d42220c752bcb9226413/statsmodels-0.12.1-cp37-cp37m-macosx_10_13_x86_64.whl (9.6MB)\n",
      "\u001b[K     |████████████████████████████████| 9.6MB 1.0MB/s eta 0:00:01\n",
      "\u001b[?25hRequirement already satisfied, skipping upgrade: joblib>=0.11 in ./venv/lib/python3.7/site-packages (from scikit-learn) (0.17.0)\n",
      "Requirement already satisfied, skipping upgrade: threadpoolctl>=2.0.0 in ./venv/lib/python3.7/site-packages (from scikit-learn) (2.1.0)\n",
      "Requirement already satisfied, skipping upgrade: scipy>=0.19.1 in ./venv/lib/python3.7/site-packages (from scikit-learn) (1.5.4)\n",
      "Requirement already satisfied, skipping upgrade: numpy>=1.13.3 in ./venv/lib/python3.7/site-packages (from scikit-learn) (1.19.4)\n",
      "Requirement already satisfied, skipping upgrade: pandas>=0.21 in ./venv/lib/python3.7/site-packages (from statsmodels) (1.1.5)\n",
      "Collecting patsy>=0.5 (from statsmodels)\n",
      "  Using cached https://files.pythonhosted.org/packages/ea/0c/5f61f1a3d4385d6bf83b83ea495068857ff8dfb89e74824c6e9eb63286d8/patsy-0.5.1-py2.py3-none-any.whl\n",
      "Requirement already satisfied, skipping upgrade: pytz>=2017.2 in ./venv/lib/python3.7/site-packages (from pandas>=0.21->statsmodels) (2020.4)\n",
      "Requirement already satisfied, skipping upgrade: python-dateutil>=2.7.3 in ./venv/lib/python3.7/site-packages (from pandas>=0.21->statsmodels) (2.8.1)\n",
      "Requirement already satisfied, skipping upgrade: six in ./venv/lib/python3.7/site-packages (from patsy>=0.5->statsmodels) (1.15.0)\n",
      "Installing collected packages: patsy, statsmodels\n",
      "Successfully installed patsy-0.5.1 statsmodels-0.12.1\n",
      "\u001b[33mWARNING: You are using pip version 19.2.3, however version 20.3.1 is available.\n",
      "You should consider upgrading via the 'pip install --upgrade pip' command.\u001b[0m\n"
     ]
    }
   ],
   "source": [
    "!pip3 install -U scikit-learn statsmodels"
   ]
  },
  {
   "cell_type": "code",
   "execution_count": 18,
   "metadata": {},
   "outputs": [],
   "source": [
    "from statsmodels.multivariate.pca import PCA"
   ]
  },
  {
   "cell_type": "code",
   "execution_count": 19,
   "metadata": {},
   "outputs": [],
   "source": [
    "pca = PCA(virus_correlation, ncomp=2)"
   ]
  },
  {
   "cell_type": "code",
   "execution_count": 22,
   "metadata": {},
   "outputs": [
    {
     "data": {
      "image/png": "[encoded data removed]",
      "text/plain": [
       "<Figure size 432x288 with 1 Axes>"
      ]
     },
     "execution_count": 22,
     "metadata": {},
     "output_type": "execute_result"
    },
    {
     "data": {
      "image/png": "[encoded data removed]",
      "text/plain": [
       "<Figure size 432x288 with 1 Axes>"
      ]
     },
     "metadata": {},
     "output_type": "display_data"
    }
   ],
   "source": [
    "pca.plot_rsquare()"
   ]
  },
  {
   "cell_type": "code",
   "execution_count": 23,
   "metadata": {},
   "outputs": [
    {
     "data": {
      "text/html": [
       "<div>\n",
       "<style scoped>\n",
       "    .dataframe tbody tr th:only-of-type {\n",
       "        vertical-align: middle;\n",
       "    }\n",
       "\n",
       "    .dataframe tbody tr th {\n",
       "        vertical-align: top;\n",
       "    }\n",
       "\n",
       "    .dataframe thead th {\n",
       "        text-align: right;\n",
       "    }\n",
       "</style>\n",
       "<table border=\"1\" class=\"dataframe\">\n",
       "  <thead>\n",
       "    <tr style=\"text-align: right;\">\n",
       "      <th></th>\n",
       "      <th>comp_0</th>\n",
       "      <th>comp_1</th>\n",
       "    </tr>\n",
       "  </thead>\n",
       "  <tbody>\n",
       "    <tr>\n",
       "      <th>0</th>\n",
       "      <td>0.156259</td>\n",
       "      <td>0.425527</td>\n",
       "    </tr>\n",
       "    <tr>\n",
       "      <th>1</th>\n",
       "      <td>-0.228976</td>\n",
       "      <td>0.283768</td>\n",
       "    </tr>\n",
       "    <tr>\n",
       "      <th>2</th>\n",
       "      <td>-0.185443</td>\n",
       "      <td>0.296844</td>\n",
       "    </tr>\n",
       "    <tr>\n",
       "      <th>3</th>\n",
       "      <td>-0.177567</td>\n",
       "      <td>-0.311806</td>\n",
       "    </tr>\n",
       "    <tr>\n",
       "      <th>4</th>\n",
       "      <td>0.038581</td>\n",
       "      <td>-0.659421</td>\n",
       "    </tr>\n",
       "    <tr>\n",
       "      <th>5</th>\n",
       "      <td>-0.141802</td>\n",
       "      <td>-0.294013</td>\n",
       "    </tr>\n",
       "    <tr>\n",
       "      <th>6</th>\n",
       "      <td>-0.137306</td>\n",
       "      <td>0.069477</td>\n",
       "    </tr>\n",
       "    <tr>\n",
       "      <th>7</th>\n",
       "      <td>-0.204149</td>\n",
       "      <td>0.161810</td>\n",
       "    </tr>\n",
       "    <tr>\n",
       "      <th>8</th>\n",
       "      <td>0.880402</td>\n",
       "      <td>0.027814</td>\n",
       "    </tr>\n",
       "  </tbody>\n",
       "</table>\n",
       "</div>"
      ],
      "text/plain": [
       "     comp_0    comp_1\n",
       "0  0.156259  0.425527\n",
       "1 -0.228976  0.283768\n",
       "2 -0.185443  0.296844\n",
       "3 -0.177567 -0.311806\n",
       "4  0.038581 -0.659421\n",
       "5 -0.141802 -0.294013\n",
       "6 -0.137306  0.069477\n",
       "7 -0.204149  0.161810\n",
       "8  0.880402  0.027814"
      ]
     },
     "execution_count": 23,
     "metadata": {},
     "output_type": "execute_result"
    }
   ],
   "source": [
    "pca.scores"
   ]
  },
  {
   "cell_type": "code",
   "execution_count": 25,
   "metadata": {},
   "outputs": [
    {
     "data": {
      "text/html": [
       "<div>\n",
       "<style scoped>\n",
       "    .dataframe tbody tr th:only-of-type {\n",
       "        vertical-align: middle;\n",
       "    }\n",
       "\n",
       "    .dataframe tbody tr th {\n",
       "        vertical-align: top;\n",
       "    }\n",
       "\n",
       "    .dataframe thead th {\n",
       "        text-align: right;\n",
       "    }\n",
       "</style>\n",
       "<table border=\"1\" class=\"dataframe\">\n",
       "  <thead>\n",
       "    <tr style=\"text-align: right;\">\n",
       "      <th></th>\n",
       "      <th>comp_0</th>\n",
       "      <th>comp_1</th>\n",
       "    </tr>\n",
       "  </thead>\n",
       "  <tbody>\n",
       "    <tr>\n",
       "      <th>0</th>\n",
       "      <td>0.156259</td>\n",
       "      <td>0.425527</td>\n",
       "    </tr>\n",
       "    <tr>\n",
       "      <th>1</th>\n",
       "      <td>-0.228976</td>\n",
       "      <td>0.283768</td>\n",
       "    </tr>\n",
       "    <tr>\n",
       "      <th>2</th>\n",
       "      <td>-0.185443</td>\n",
       "      <td>0.296844</td>\n",
       "    </tr>\n",
       "    <tr>\n",
       "      <th>3</th>\n",
       "      <td>-0.177567</td>\n",
       "      <td>-0.311806</td>\n",
       "    </tr>\n",
       "    <tr>\n",
       "      <th>4</th>\n",
       "      <td>0.038581</td>\n",
       "      <td>-0.659421</td>\n",
       "    </tr>\n",
       "    <tr>\n",
       "      <th>5</th>\n",
       "      <td>-0.141802</td>\n",
       "      <td>-0.294013</td>\n",
       "    </tr>\n",
       "    <tr>\n",
       "      <th>6</th>\n",
       "      <td>-0.137306</td>\n",
       "      <td>0.069477</td>\n",
       "    </tr>\n",
       "    <tr>\n",
       "      <th>7</th>\n",
       "      <td>-0.204149</td>\n",
       "      <td>0.161810</td>\n",
       "    </tr>\n",
       "    <tr>\n",
       "      <th>8</th>\n",
       "      <td>0.880402</td>\n",
       "      <td>0.027814</td>\n",
       "    </tr>\n",
       "  </tbody>\n",
       "</table>\n",
       "</div>"
      ],
      "text/plain": [
       "     comp_0    comp_1\n",
       "0  0.156259  0.425527\n",
       "1 -0.228976  0.283768\n",
       "2 -0.185443  0.296844\n",
       "3 -0.177567 -0.311806\n",
       "4  0.038581 -0.659421\n",
       "5 -0.141802 -0.294013\n",
       "6 -0.137306  0.069477\n",
       "7 -0.204149  0.161810\n",
       "8  0.880402  0.027814"
      ]
     },
     "execution_count": 25,
     "metadata": {},
     "output_type": "execute_result"
    }
   ],
   "source": [
    "pca.factors"
   ]
  },
  {
   "cell_type": "code",
   "execution_count": null,
   "metadata": {},
   "outputs": [],
   "source": []
  }
 ],
 "metadata": {
  "kernelspec": {
   "display_name": "Python 3",
   "language": "python",
   "name": "python3"
  },
  "language_info": {
   "codemirror_mode": {
    "name": "ipython",
    "version": 3
   },
   "file_extension": ".py",
   "mimetype": "text/x-python",
   "name": "python",
   "nbconvert_exporter": "python",
   "pygments_lexer": "ipython3",
   "version": "3.7.7"
  }
 },
 "nbformat": 4,
 "nbformat_minor": 4
}
